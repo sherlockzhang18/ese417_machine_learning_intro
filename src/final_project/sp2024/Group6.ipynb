{
 "cells": [
  {
   "cell_type": "code",
   "execution_count": null,
   "id": "87a1dcde",
   "metadata": {
    "id": "87a1dcde"
   },
   "outputs": [],
   "source": [
    "import warnings\n",
    "from sklearn.exceptions import ConvergenceWarning, UndefinedMetricWarning\n",
    "warnings.filterwarnings(\"ignore\", category=FutureWarning)\n",
    "warnings.filterwarnings(\"ignore\", category=ConvergenceWarning)\n",
    "warnings.filterwarnings(\"ignore\", category=UndefinedMetricWarning)\n",
    "\n",
    "import numpy as np\n",
    "import pandas as pd\n",
    "import seaborn as sns\n",
    "import matplotlib.pyplot as plt\n",
    "from sklearn.utils import resample\n",
    "from sklearn.metrics import accuracy_score, classification_report\n",
    "from sklearn.feature_selection import SelectKBest, f_classif\n",
    "from sklearn.model_selection import GridSearchCV, KFold, cross_val_score, train_test_split\n",
    "from sklearn.preprocessing import StandardScaler, PolynomialFeatures\n",
    "from sklearn.neural_network import MLPClassifier\n",
    "from sklearn.ensemble import BaggingClassifier, RandomForestClassifier\n",
    "from sklearn.tree import DecisionTreeClassifier"
   ]
  },
  {
   "cell_type": "code",
   "execution_count": null,
   "id": "070764f0",
   "metadata": {
    "id": "070764f0"
   },
   "outputs": [],
   "source": [
    "wine_data = pd.read_csv('winequality-red.csv', sep=';', header=0)"
   ]
  },
  {
   "cell_type": "code",
   "execution_count": null,
   "id": "c09b2766",
   "metadata": {
    "colab": {
     "base_uri": "https://localhost:8080/",
     "height": 223
    },
    "id": "c09b2766",
    "outputId": "c13bcf0c-9bf9-4ecb-d69a-a12b980b2548"
   },
   "outputs": [],
   "source": [
    "wine_data.head()"
   ]
  },
  {
   "cell_type": "code",
   "execution_count": null,
   "id": "c0558a2c",
   "metadata": {
    "colab": {
     "base_uri": "https://localhost:8080/",
     "height": 714
    },
    "id": "c0558a2c",
    "outputId": "ba3e5a8e-beed-4cab-cdbe-142161c3dcb2"
   },
   "outputs": [],
   "source": [
    "sns.set_style(\"whitegrid\")\n",
    "\n",
    "\n",
    "fig, ax = plt.subplots(figsize=(10, 6))\n",
    "\n",
    "\n",
    "sns.countplot(x='quality', data=wine_data, palette=\"Set2\", ax=ax)\n",
    "\n",
    "ax.set_xlabel('Quality', fontsize=12)\n",
    "ax.set_ylabel('Count', fontsize=12)\n",
    "\n",
    "\n",
    "plt.tight_layout()\n",
    "\n",
    "\n",
    "plt.show()\n"
   ]
  },
  {
   "cell_type": "code",
   "execution_count": null,
   "id": "f9eb6d76",
   "metadata": {
    "id": "f9eb6d76"
   },
   "outputs": [],
   "source": []
  },
  {
   "cell_type": "code",
   "execution_count": null,
   "id": "4cd92f00",
   "metadata": {
    "colab": {
     "base_uri": "https://localhost:8080/",
     "height": 1000
    },
    "id": "4cd92f00",
    "outputId": "5f0055c3-7174-41e1-cb7a-6f8dee5f1a12"
   },
   "outputs": [],
   "source": [
    "# Column names for the dataset\n",
    "column_names = [\n",
    "    'fixed acidity', 'volatile acidity', 'citric acid',\n",
    "    'residual sugar', 'chlorides', 'free sulfur dioxide',\n",
    "    'total sulfur dioxide', 'density', 'pH', 'sulphates',\n",
    "    'alcohol', 'quality'\n",
    "]\n",
    "\n",
    "\n",
    "\n",
    "# Define the columns you want to use for plotting\n",
    "selected_columns = column_names[:-1]  # All except 'quality'\n",
    "\n",
    "# Set Seaborn style\n",
    "sns.set_style(\"whitegrid\")\n",
    "\n",
    "# Calculate the number of rows and columns for subplots\n",
    "n_cols = 3\n",
    "n_rows = (len(selected_columns) + n_cols - 1) // n_cols  # To ensure all subplots are accounted for\n",
    "\n",
    "# Create subplots\n",
    "fig, axes = plt.subplots(nrows=n_rows, ncols=n_cols, figsize=(15, 10))  # Adjusted figsize for better visualization\n",
    "\n",
    "# Flatten axes for easier iteration\n",
    "axes = axes.flatten()\n",
    "\n",
    "# Plot boxplots\n",
    "for i, col in enumerate(selected_columns):\n",
    "    sns.boxplot(x='quality', y=col, data=wine_data, ax=axes[i], palette=\"Set2\")\n",
    "    axes[i].set_ylabel(col.replace('_', ' ').title(), fontsize=12)  # Set y-axis label\n",
    "    axes[i].set_xlabel('Quality', fontsize=12)  # Set x-axis label\n",
    "\n",
    "# Remove extra axes if any\n",
    "for j in range(i + 1, len(axes)):\n",
    "    fig.delaxes(axes[j])  # Delete unused axes\n",
    "\n",
    "# Adjust layout to prevent overlapping\n",
    "plt.tight_layout()\n",
    "\n",
    "# Show the plots\n",
    "plt.show()\n",
    "\n",
    "\n",
    "\n"
   ]
  },
  {
   "cell_type": "code",
   "execution_count": null,
   "id": "ae69fd30",
   "metadata": {
    "id": "ae69fd30"
   },
   "outputs": [],
   "source": []
  },
  {
   "cell_type": "code",
   "execution_count": null,
   "id": "8dda85df",
   "metadata": {
    "id": "8dda85df"
   },
   "outputs": [],
   "source": [
    "X = wine_data.drop('quality', axis=1) # features\n",
    "y = wine_data['quality'] # target\n",
    "scaler = StandardScaler()\n",
    "X_scaled = scaler.fit_transform(X)\n"
   ]
  },
  {
   "cell_type": "code",
   "execution_count": null,
   "id": "d2fbbae2",
   "metadata": {
    "id": "d2fbbae2"
   },
   "outputs": [],
   "source": []
  },
  {
   "cell_type": "markdown",
   "id": "0b8d9b42",
   "metadata": {
    "id": "0b8d9b42"
   },
   "source": [
    "Feature selection with resampling\n",
    "\n",
    "\n",
    "Precision, Recall, F1-Score: The model performs better than any other previous model, especially in class 7 and 8, which might conrtibute of the usage of interaction term and resampling."
   ]
  },
  {
   "cell_type": "code",
   "execution_count": null,
   "id": "f28b0c78",
   "metadata": {
    "id": "f28b0c78"
   },
   "outputs": [],
   "source": []
  },
  {
   "cell_type": "code",
   "execution_count": null,
   "id": "a24f4c6a",
   "metadata": {
    "id": "a24f4c6a"
   },
   "outputs": [],
   "source": [
    "# create interaction terms and combine them\n",
    "poly = PolynomialFeatures(degree=2, interaction_only=True, include_bias=False)\n",
    "X_interactions = poly.fit_transform(X_scaled)\n",
    "X_enhanced = np.hstack([X_scaled, X_interactions])"
   ]
  },
  {
   "cell_type": "code",
   "execution_count": null,
   "id": "1a41a202",
   "metadata": {
    "id": "1a41a202"
   },
   "outputs": [],
   "source": [
    "# resampling\n",
    "data_balanced = pd.concat([pd.DataFrame(X_enhanced), pd.Series(y, name='quality')], axis=1)\n",
    "data_majority = data_balanced[data_balanced.quality == 6]\n",
    "data_minority = data_balanced[data_balanced.quality != 6]\n",
    "data_minority_upsampled = resample(data_minority, replace=True, n_samples=len(data_majority), random_state=42)\n",
    "data_balanced = pd.concat([data_majority, data_minority_upsampled])\n",
    "\n",
    "X_train_balanced, X_test_balanced, y_train_balanced, y_test_balanced = train_test_split(\n",
    "    data_balanced.drop('quality', axis=1).values, data_balanced['quality'].values, test_size=0.2, random_state=42)\n"
   ]
  },
  {
   "cell_type": "code",
   "execution_count": null,
   "id": "41db57c0",
   "metadata": {
    "colab": {
     "base_uri": "https://localhost:8080/"
    },
    "id": "41db57c0",
    "outputId": "0fdb3204-1e2c-4216-90ba-9bc0897a0fbd"
   },
   "outputs": [],
   "source": [
    "# define parameters\n",
    "mlp = MLPClassifier(max_iter=1000)\n",
    "parameter_space = {\n",
    "    'hidden_layer_sizes': [(50,), (100,), (50, 50)],\n",
    "    'activation': ['tanh', 'relu'],\n",
    "    'solver': ['sgd', 'adam'],\n",
    "    'alpha': [0.0001, 0.05],\n",
    "    'learning_rate': ['constant', 'adaptive'],\n",
    "}\n",
    "\n",
    "# GridSearchCV\n",
    "clf = GridSearchCV(mlp, parameter_space, n_jobs=-1, cv=3)\n",
    "clf.fit(X_train_balanced, y_train_balanced)\n",
    "\n",
    "print('Best parameters found:\\n', clf.best_params_)\n",
    "\n",
    "# display result for comparison\n",
    "means = clf.cv_results_['mean_test_score']\n",
    "stds = clf.cv_results_['std_test_score']\n",
    "for mean, std, params in zip(means, stds, clf.cv_results_['params']):\n",
    "    print(f\"{mean:.3f} (+/-{std * 2:.3f}) for {params}\")\n"
   ]
  },
  {
   "cell_type": "code",
   "execution_count": null,
   "id": "f19e45ed",
   "metadata": {
    "id": "f19e45ed"
   },
   "outputs": [],
   "source": [
    "X_train, X_test, y_train, y_test = train_test_split(X_scaled, y, test_size=0.2, random_state=42)\n",
    "best_params = {\n",
    "    'activation': 'relu',\n",
    "    'alpha': 0.05,\n",
    "    'hidden_layer_sizes': (50,),\n",
    "    'learning_rate': 'constant',\n",
    "    'solver': 'adam'\n",
    "}"
   ]
  },
  {
   "cell_type": "code",
   "execution_count": null,
   "id": "5b90b027",
   "metadata": {
    "colab": {
     "base_uri": "https://localhost:8080/"
    },
    "id": "5b90b027",
    "outputId": "7b6bec72-6665-45c6-ce8d-df31a1c5dce7"
   },
   "outputs": [],
   "source": [
    "ann_model = MLPClassifier(**best_params, max_iter=1000, random_state=42)\n",
    "ann_model.fit(X_train, y_train)\n",
    "ann_pd = ann_model.predict(X_test)\n",
    "print(\"ANN Classification Report:\")\n",
    "print(classification_report(y_test, ann_pd))"
   ]
  },
  {
   "cell_type": "code",
   "execution_count": null,
   "id": "4850ca93",
   "metadata": {
    "colab": {
     "base_uri": "https://localhost:8080/"
    },
    "id": "4850ca93",
    "outputId": "27d53abd-84be-4db1-f0b0-4ab2207199f2"
   },
   "outputs": [],
   "source": [
    "# MLPClassifier with balanced data\n",
    "mlp_balanced = MLPClassifier(**best_params, max_iter=1000, random_state=42)\n",
    "mlp_balanced.fit(X_train_balanced, y_train_balanced)\n",
    "\n",
    "predictions_balanced = mlp_balanced.predict(X_test_balanced)\n",
    "accuracy_balanced = accuracy_score(y_test_balanced, predictions_balanced)\n",
    "report_balanced = classification_report(y_test_balanced, predictions_balanced)\n",
    "\n",
    "print(\"Accuracy Balanced with Feature Interactions:\", accuracy_balanced)\n",
    "print(\"Classification Report Balanced with Feature Interactions:\\n\", report_balanced)"
   ]
  },
  {
   "cell_type": "markdown",
   "id": "1aa3d1eb",
   "metadata": {
    "id": "1aa3d1eb"
   },
   "source": [
    "using bagging aggregation"
   ]
  },
  {
   "cell_type": "code",
   "execution_count": null,
   "id": "3812ba68",
   "metadata": {
    "colab": {
     "base_uri": "https://localhost:8080/"
    },
    "id": "3812ba68",
    "outputId": "e1565f17-f83c-47da-8a7e-843103f2c627"
   },
   "outputs": [],
   "source": [
    "mlp_base = MLPClassifier(**best_params, max_iter=1000, random_state=42)\n",
    "\n",
    "\n",
    "bagging_ensemble = BaggingClassifier(\n",
    "    estimator=mlp_base,\n",
    "    n_estimators=10,\n",
    "    random_state=42\n",
    ")\n",
    "\n",
    "\n",
    "bagging_ensemble.fit(X_train_balanced, y_train_balanced)\n",
    "\n",
    "\n",
    "y_pred = bagging_ensemble.predict(X_test_balanced)\n",
    "\n",
    "\n",
    "accuracy = accuracy_score(y_test_balanced, y_pred)\n",
    "report = classification_report(y_test_balanced, y_pred)\n",
    "\n",
    "print(\"Bagging model accuracy:\", accuracy)\n",
    "print(\"Bagging model report:\\n\", report)"
   ]
  },
  {
   "cell_type": "markdown",
   "id": "19f06bb2",
   "metadata": {
    "id": "19f06bb2"
   },
   "source": [
    "using K-fold Cross-Validation"
   ]
  },
  {
   "cell_type": "code",
   "execution_count": null,
   "id": "e02beef7",
   "metadata": {
    "colab": {
     "base_uri": "https://localhost:8080/",
     "height": 1000
    },
    "id": "e02beef7",
    "outputId": "6dc419f1-e9ac-4c81-ece8-992031c38308",
    "scrolled": true
   },
   "outputs": [],
   "source": [
    "k = 10\n",
    "selector = SelectKBest(f_classif, k=k)\n",
    "X_selected = selector.fit_transform(X_enhanced, y)\n",
    "\n",
    "\n",
    "\n",
    "\n",
    "kf = KFold(n_splits=5, shuffle=True, random_state=42)\n",
    "\n",
    "\n",
    "cross_val_scores = cross_val_score(bagging_ensemble, X_selected, y, cv=kf)\n",
    "\n",
    "\n",
    "average_score = np.mean(cross_val_scores)\n",
    "\n",
    "\n",
    "folds = range(1, len(cross_val_scores) + 1)\n",
    "plt.figure(figsize=(10, 6))\n",
    "plt.plot(folds, cross_val_scores, marker='o', linestyle='-', color='b', label='Cross-Validation Score per Fold')\n",
    "plt.axhline(y=average_score, color='r', linestyle='--', label=f'Average Score: {average_score:.2%}')\n",
    "plt.xlabel('Fold Number')\n",
    "plt.ylabel('Accuracy')\n",
    "plt.title('ANN Model Cross-Validation Scores')\n",
    "plt.xticks(folds)\n",
    "plt.legend()\n",
    "plt.grid(True)\n",
    "plt.show()\n",
    "\n",
    "\n",
    "print(\"Cross-Validated Scores:\", cross_val_scores)\n",
    "print(\"Average Score:\", average_score)"
   ]
  },
  {
   "cell_type": "code",
   "execution_count": null,
   "id": "7138e754",
   "metadata": {
    "colab": {
     "base_uri": "https://localhost:8080/"
    },
    "id": "7138e754",
    "outputId": "a5f7cca1-fd97-4982-d14b-e740327677a4"
   },
   "outputs": [],
   "source": [
    "# train the DecisionTreeClassifier\n",
    "clf = DecisionTreeClassifier(criterion = 'entropy')\n",
    "clf.fit(X_train_balanced, y_train_balanced)\n",
    "accuracy_optimized = clf.score(X_test_balanced, y_test_balanced)\n",
    "print('Optimized Accuracy: ', accuracy_optimized)\n",
    "\n",
    "X_train, X_test, y_train, y_test = train_test_split(\n",
    "    wine_data.drop('quality', axis=1).values, wine_data['quality'].values, test_size=0.2, random_state=42)\n",
    "clf.fit(X_train, y_train)\n",
    "accuracy_initial = clf.score(X_test, y_test)\n",
    "print('Initial Accuracy: ', accuracy_initial)"
   ]
  },
  {
   "cell_type": "code",
   "execution_count": null,
   "id": "mm1NjD48_F3w",
   "metadata": {
    "colab": {
     "base_uri": "https://localhost:8080/",
     "height": 486
    },
    "id": "mm1NjD48_F3w",
    "outputId": "349f4f7d-dd86-4059-eaaa-2f9cb302ac6f"
   },
   "outputs": [],
   "source": [
    "for max_depth in range(1,12):\n",
    "    clf = DecisionTreeClassifier(criterion = 'entropy', max_depth=max_depth)\n",
    "    accuracy = cross_val_score(clf, X_train_balanced, y_train_balanced, cv=3)\n",
    "    plt.subplot(3, 4, max_depth)\n",
    "    plt.plot(range(2,5),accuracy, marker ='o')\n",
    "    plt.plot([2,4],[accuracy.mean(),accuracy.mean()], color ='red')\n",
    "    plt.xlabel('k')\n",
    "    plt.ylabel('Accuracy')\n",
    "    plt.title('Max Depth = {}'.format(max_depth))\n",
    "plt.tight_layout()\n",
    "plt.show()"
   ]
  },
  {
   "cell_type": "code",
   "execution_count": null,
   "id": "I_12tAz_Cbdf",
   "metadata": {
    "colab": {
     "base_uri": "https://localhost:8080/",
     "height": 486
    },
    "id": "I_12tAz_Cbdf",
    "outputId": "a94d359c-ea5f-460f-e767-5715283be9d9"
   },
   "outputs": [],
   "source": [
    "i=0\n",
    "for min_samples_split in range(2, 42, 4):\n",
    "    clf = DecisionTreeClassifier(criterion = 'entropy', min_samples_split = min_samples_split)\n",
    "    accuracy = cross_val_score(clf, X_train_balanced, y_train_balanced, cv=3)\n",
    "    i += 1\n",
    "    plt.subplot(3, 4, i)\n",
    "    plt.plot(range(2,5),accuracy, marker ='o')\n",
    "    plt.plot([2,4],[accuracy.mean(),accuracy.mean()], color ='red')\n",
    "    plt.xlabel('k')\n",
    "    plt.ylabel('Accuracy')\n",
    "    plt.title('MSS = {}'.format(min_samples_split))\n",
    "plt.tight_layout()\n",
    "plt.show()\n"
   ]
  },
  {
   "cell_type": "code",
   "execution_count": null,
   "id": "y4QrDe68Cwqv",
   "metadata": {
    "colab": {
     "base_uri": "https://localhost:8080/",
     "height": 486
    },
    "id": "y4QrDe68Cwqv",
    "outputId": "4ce4acc0-8794-4f0e-93ad-b2f3b691f774"
   },
   "outputs": [],
   "source": [
    "i=0\n",
    "for min_samples_leaf in range(1, 41, 4):\n",
    "    clf = DecisionTreeClassifier(criterion = 'entropy', min_samples_leaf = min_samples_leaf)\n",
    "    accuracy = cross_val_score(clf, X_train_balanced, y_train_balanced, cv=3)\n",
    "    i += 1\n",
    "    plt.subplot(3, 4, i)\n",
    "    plt.plot(range(2,5),accuracy, marker ='o')\n",
    "    plt.plot([2,4],[accuracy.mean(),accuracy.mean()], color ='red')\n",
    "    plt.xlabel('k')\n",
    "    plt.ylabel('Accuracy')\n",
    "    plt.title('MSL = {}'.format(min_samples_leaf))\n",
    "plt.tight_layout()\n",
    "plt.show()\n"
   ]
  },
  {
   "cell_type": "code",
   "execution_count": null,
   "id": "dmbPO5wtC8o9",
   "metadata": {
    "colab": {
     "base_uri": "https://localhost:8080/",
     "height": 486
    },
    "id": "dmbPO5wtC8o9",
    "outputId": "c5f3df01-4899-496b-e23a-1d01de8db897"
   },
   "outputs": [],
   "source": [
    "i=0\n",
    "for max_features in range(1, 21, 2):\n",
    "    clf = DecisionTreeClassifier(criterion = 'entropy', max_features = max_features)\n",
    "    accuracy = cross_val_score(clf, X_train_balanced, y_train_balanced, cv=3)\n",
    "    i += 1\n",
    "    plt.subplot(3, 4, i)\n",
    "    plt.plot(range(2,5),accuracy, marker ='o')\n",
    "    plt.plot([2,4],[accuracy.mean(),accuracy.mean()], color ='red')\n",
    "    plt.xlabel('k')\n",
    "    plt.ylabel('Accuracy')\n",
    "    plt.title('Max Features = {}'.format(max_features))\n",
    "plt.tight_layout()\n",
    "plt.show()\n"
   ]
  },
  {
   "cell_type": "code",
   "execution_count": null,
   "id": "_jGlcGV-kzdn",
   "metadata": {
    "colab": {
     "base_uri": "https://localhost:8080/",
     "height": 685
    },
    "id": "_jGlcGV-kzdn",
    "outputId": "0f082b9e-69da-4f8c-e56a-b40c7721e16c"
   },
   "outputs": [],
   "source": [
    "rf_classifier = RandomForestClassifier()\n",
    "\n",
    "rf_classifier.fit(X_train_balanced,y_train_balanced)\n",
    "\n",
    "y_pred = rf_classifier.predict(X_test_balanced)\n",
    "\n",
    "accuracy = accuracy_score(y_test_balanced, y_pred)\n",
    "print(\"Accuracy on test set:\", accuracy)\n",
    "\n",
    "\n",
    "n_estimators_values = [10, 50, 100, 200, 300, 400, 500]\n",
    "\n",
    "# List to store accuracies\n",
    "accuracies = []\n",
    "\n",
    "# Loop through each n_estimators value and train a Random Forest\n",
    "for n in n_estimators_values:\n",
    "    # Initialize the Random Forest with the current n_estimators\n",
    "    rf = RandomForestClassifier(n_estimators=n, random_state=42)\n",
    "\n",
    "    # Train the model\n",
    "    rf.fit(X_train_balanced, y_train_balanced)\n",
    "\n",
    "    # Predict on the test set\n",
    "    y_pred = rf.predict(X_test_balanced)\n",
    "\n",
    "    # Calculate accuracy and store it\n",
    "    accuracy = accuracy_score(y_test_balanced, y_pred)\n",
    "    accuracies.append(accuracy)\n",
    "\n",
    "    print(f\"Accuracy with {n} estimators: {accuracy:.2%}\")\n",
    "\n",
    "# Plot accuracy against the number of estimators\n",
    "plt.figure(figsize=(10, 6))\n",
    "plt.plot(n_estimators_values, accuracies, marker='o', linestyle='-', color='b')\n",
    "plt.title('Impact of n_estimators on Accuracy')\n",
    "plt.xlabel('Number of Estimators')\n",
    "plt.ylabel('Accuracy')\n",
    "plt.grid(True)\n",
    "plt.show()"
   ]
  }
 ],
 "metadata": {
  "colab": {
   "provenance": []
  },
  "kernelspec": {
   "display_name": "ml417T",
   "language": "python",
   "name": "python3"
  },
  "language_info": {
   "codemirror_mode": {
    "name": "ipython",
    "version": 3
   },
   "file_extension": ".py",
   "mimetype": "text/x-python",
   "name": "python",
   "nbconvert_exporter": "python",
   "pygments_lexer": "ipython3",
   "version": "3.12.4"
  }
 },
 "nbformat": 4,
 "nbformat_minor": 5
}
